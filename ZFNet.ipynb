{
  "cells": [
    {
      "cell_type": "markdown",
      "metadata": {
        "id": "view-in-github",
        "colab_type": "text"
      },
      "source": [
        "<a href=\"https://colab.research.google.com/github/amaydixit11/research_papers/blob/main/ZFNet.ipynb\" target=\"_parent\"><img src=\"https://colab.research.google.com/assets/colab-badge.svg\" alt=\"Open In Colab\"/></a>"
      ]
    },
    {
      "cell_type": "code",
      "execution_count": null,
      "metadata": {
        "id": "cKjNtaG76EFl"
      },
      "outputs": [],
      "source": [
        "import numpy as np\n",
        "import torch\n",
        "import torch.nn as nn\n",
        "from torchvision import datasets\n",
        "from torchvision import transforms\n",
        "from torch.utils.data.sampler import SubsetRandomSampler\n",
        "from torch.utils.data import DataLoader\n",
        "from sklearn.model_selection import train_test_split\n",
        "import torch.nn.functional as F\n",
        "\n",
        "device = torch.device('cuda' if torch.cuda.is_available() else 'cpu')"
      ]
    },
    {
      "cell_type": "code",
      "execution_count": null,
      "metadata": {
        "id": "vmRD9vVjSr63"
      },
      "outputs": [],
      "source": [
        "normalize = transforms.Normalize(mean=[0.485, 0.456, 0.406], std=[0.229, 0.224, 0.225])\n",
        "train_transform = transforms.Compose([\n",
        "    transforms.Resize(256),\n",
        "    transforms.RandomCrop(224),\n",
        "    transforms.RandomHorizontalFlip(),\n",
        "    transforms.ToTensor(),\n",
        "    normalize])\n",
        "\n",
        "val_transform = transforms.Compose([\n",
        "    transforms.Resize(256),\n",
        "    transforms.CenterCrop(224),\n",
        "    transforms.ToTensor(),\n",
        "    normalize])\n",
        "\n",
        "train_dataset = datasets.CIFAR10(root='./data', train=True, transform=train_transform, download=True)\n",
        "val_dataset = datasets.CIFAR10(root='./data', train=False, transform=val_transform, download=True)\n",
        "\n",
        "indices = list(range(len(train_dataset)))\n",
        "train_indices, val_indices = train_test_split(indices, test_size=0.2, random_state=42)\n",
        "\n",
        "# samplers\n",
        "train_sampler = SubsetRandomSampler(train_indices)\n",
        "val_sampler = SubsetRandomSampler(val_indices)\n",
        "\n",
        "# loaders\n",
        "train_loader = DataLoader(train_dataset, batch_size=128, sampler=train_sampler, num_workers=2)\n",
        "# val_loader = DataLoader(val_dataset, batch_size=128, sampler=val_sampler, num_workers=2)\n",
        "val_loader = DataLoader(val_dataset, batch_size=128, shuffle=False, num_workers=2)\n"
      ]
    },
    {
      "cell_type": "code",
      "execution_count": null,
      "metadata": {
        "id": "Y44DFdwWgt0U"
      },
      "outputs": [],
      "source": [
        "class LRN(nn.Module):\n",
        "    def __init__(self, size=5, alpha=1e-4, beta=0.75, k=2):\n",
        "        super(LRN, self).__init__()\n",
        "        self.size = size\n",
        "        self.alpha = alpha\n",
        "        self.beta = beta\n",
        "        self.k = k\n",
        "\n",
        "    def forward(self, x):\n",
        "        div = x.pow(2).mean(dim=1, keepdim=True)\n",
        "        div = (self.k + self.alpha * div).pow(self.beta)\n",
        "        return x / div\n"
      ]
    },
    {
      "cell_type": "code",
      "execution_count": null,
      "metadata": {
        "id": "AI50HMepStly"
      },
      "outputs": [],
      "source": [
        "class ZFNet(nn.Module):\n",
        "  def __init__(self, num_classes):\n",
        "    super(ZFNet, self).__init__()\n",
        "    self.conv1 = nn.Conv2d(3, 96, kernel_size=7, stride=2, padding=0)\n",
        "    self.conv2 = nn.Conv2d(96, 256, kernel_size=3, stride=1, padding=2)\n",
        "    self.conv3 = nn.Conv2d(256, 384, kernel_size=3, stride=1, padding=1)\n",
        "    self.conv4 = nn.Conv2d(384, 384, kernel_size=3, stride=1, padding=1)\n",
        "    self.conv5 = nn.Conv2d(384, 256, kernel_size=3, stride=1, padding=1)\n",
        "\n",
        "    self.fc6 = nn.Linear(256 * 6 * 6, 4096)\n",
        "    self.fc7 = nn.Linear(4096, 4096)\n",
        "    self.fc8 = nn.Linear(4096, num_classes)\n",
        "\n",
        "    self.maxPool = nn.MaxPool2d(kernel_size = 3, stride = 2)\n",
        "    self.global_pool = nn.AdaptiveAvgPool2d((6, 6))\n",
        "    self.do = nn.Dropout(0.5)\n",
        "    self.relu = nn.ReLU(inplace=True)\n",
        "\n",
        "    self.features = nn.Sequential(\n",
        "        self.conv1, self.relu, LRN(), self.maxPool,\n",
        "        self.conv2, self.relu, LRN(), self.maxPool,\n",
        "        self.conv3, self.relu,\n",
        "        self.conv4, self.relu,\n",
        "        self.conv5, self.relu, self.maxPool\n",
        "    )\n",
        "    self.classifier = nn.Sequential(\n",
        "        self.fc6, self.relu, self.do,\n",
        "        self.fc7, self.relu, self.do,\n",
        "        self.fc8\n",
        "        )\n",
        "\n",
        "  def forward(self, x):\n",
        "    out = self.features(x)\n",
        "    out = self.global_pool(out)\n",
        "    out = out.view(out.size(0), -1)\n",
        "    out = self.classifier(out)\n",
        "    return out\n",
        "\n",
        "  def initialize_weights(self):\n",
        "    for m in self.modules():\n",
        "        if isinstance(m, nn.Conv2d):\n",
        "            nn.init.normal_(m.weight, mean=0, std=0.01)\n",
        "            if m.bias is not None:\n",
        "                nn.init.constant_(m.bias, 1)\n",
        "        elif isinstance(m, nn.Linear):\n",
        "            nn.init.normal_(m.weight, mean=0, std=0.01)\n",
        "            nn.init.constant_(m.bias, 1)\n",
        "\n"
      ]
    },
    {
      "cell_type": "code",
      "execution_count": null,
      "metadata": {
        "id": "fyimVIv2gnYC"
      },
      "outputs": [],
      "source": [
        "num_classes = 10\n",
        "num_epochs = 30\n",
        "batch_size = 64\n",
        "learning_rate = 0.01\n",
        "\n",
        "model = ZFNet(num_classes).to(device)\n",
        "\n",
        "# Loss and optimizer\n",
        "criterion = nn.CrossEntropyLoss()\n",
        "optimizer = torch.optim.SGD(model.parameters(), lr=learning_rate, weight_decay = 0.0005, momentum = 0.9)\n",
        "\n",
        "# Train the model\n",
        "total_step = len(train_loader)"
      ]
    },
    {
      "cell_type": "code",
      "execution_count": null,
      "metadata": {
        "colab": {
          "background_save": true
        },
        "id": "zDAK8M71gnqf"
      },
      "outputs": [],
      "source": [
        "from tqdm import tqdm\n",
        "\n",
        "total_step = len(train_loader)\n",
        "\n",
        "for epoch in range(num_epochs):\n",
        "    # Training loop\n",
        "    pbar = tqdm(enumerate(train_loader), total=total_step, desc=f\"Epoch {epoch+1}/{num_epochs}\")\n",
        "    for i, (images, labels) in pbar:\n",
        "        images = images.to(device)\n",
        "        labels = labels.to(device)\n",
        "\n",
        "        # Forward pass\n",
        "        outputs = model(images)\n",
        "        loss = criterion(outputs, labels)\n",
        "\n",
        "        # Backward and optimize\n",
        "        optimizer.zero_grad()\n",
        "        loss.backward()\n",
        "        optimizer.step()\n",
        "\n",
        "        # Update progress bar\n",
        "        pbar.set_postfix({\"Loss\": loss.item()})\n",
        "\n",
        "    # Validation loop\n",
        "    with torch.no_grad():\n",
        "        correct = 0\n",
        "        total = 0\n",
        "        for images, labels in val_loader:\n",
        "            images = images.to(device)\n",
        "            labels = labels.to(device)\n",
        "            outputs = model(images)\n",
        "            _, predicted = torch.max(outputs, 1)\n",
        "            total += labels.size(0)\n",
        "            correct += (predicted == labels).sum().item()\n",
        "        torch.cuda.empty_cache()\n",
        "\n",
        "    print(f\"Validation Accuracy on {total} images: {100 * correct / total:.2f} %\")\n"
      ]
    },
    {
      "cell_type": "code",
      "execution_count": null,
      "metadata": {
        "id": "qGrmZmmJjpGa"
      },
      "outputs": [],
      "source": []
    }
  ],
  "metadata": {
    "accelerator": "GPU",
    "colab": {
      "gpuType": "T4",
      "provenance": [],
      "authorship_tag": "ABX9TyOhPfssAaKjShch/3pEjTvX",
      "include_colab_link": true
    },
    "kernelspec": {
      "display_name": "Python 3",
      "name": "python3"
    },
    "language_info": {
      "name": "python"
    }
  },
  "nbformat": 4,
  "nbformat_minor": 0
}