{
  "nbformat": 4,
  "nbformat_minor": 0,
  "metadata": {
    "colab": {
      "provenance": [],
      "gpuType": "T4",
      "authorship_tag": "ABX9TyNE87skxUjqsGHIo0289Dqr",
      "include_colab_link": true
    },
    "kernelspec": {
      "name": "python3",
      "display_name": "Python 3"
    },
    "language_info": {
      "name": "python"
    },
    "accelerator": "GPU"
  },
  "cells": [
    {
      "cell_type": "markdown",
      "metadata": {
        "id": "view-in-github",
        "colab_type": "text"
      },
      "source": [
        "<a href=\"https://colab.research.google.com/github/amaydixit11/research_papers/blob/main/AlexNet.ipynb\" target=\"_parent\"><img src=\"https://colab.research.google.com/assets/colab-badge.svg\" alt=\"Open In Colab\"/></a>"
      ]
    },
    {
      "cell_type": "code",
      "execution_count": null,
      "metadata": {
        "id": "LRfu2o6kCONf"
      },
      "outputs": [],
      "source": [
        "import numpy as np\n",
        "import torch\n",
        "import torch.nn as nn\n",
        "from torchvision import datasets\n",
        "from torchvision import transforms\n",
        "from torch.utils.data.sampler import SubsetRandomSampler\n",
        "from torch.utils.data import DataLoader\n",
        "from sklearn.model_selection import train_test_split\n",
        "import torch.nn.functional as F\n",
        "\n",
        "device = torch.device('cuda' if torch.cuda.is_available() else 'cpu')"
      ]
    },
    {
      "cell_type": "code",
      "source": [
        "normalize = transforms.Normalize(mean=[0.485, 0.456, 0.406], std=[0.229, 0.224, 0.225])\n",
        "train_transform = transforms.Compose([\n",
        "    transforms.Resize(256),\n",
        "    transforms.RandomCrop(224),\n",
        "    transforms.RandomHorizontalFlip(),\n",
        "    transforms.ToTensor(),\n",
        "    normalize])\n",
        "\n",
        "val_transform = transforms.Compose([\n",
        "    transforms.Resize(256),\n",
        "    transforms.CenterCrop(224),\n",
        "    transforms.ToTensor(),\n",
        "    normalize])\n",
        "\n",
        "train_dataset = datasets.CIFAR10(root='./data', train=True, transform=train_transform, download=True)\n",
        "val_dataset = datasets.CIFAR10(root='./data', train=False, transform=val_transform, download=True)\n",
        "\n",
        "indices = list(range(len(train_dataset)))\n",
        "train_indices, val_indices = train_test_split(indices, test_size=0.2, random_state=42)\n",
        "\n",
        "# samplers\n",
        "train_sampler = SubsetRandomSampler(train_indices)\n",
        "val_sampler = SubsetRandomSampler(val_indices)\n",
        "\n",
        "# loaders\n",
        "train_loader = DataLoader(train_dataset, batch_size=128, sampler=train_sampler, num_workers=2)\n",
        "# val_loader = DataLoader(val_dataset, batch_size=128, sampler=val_sampler, num_workers=2)\n",
        "val_loader = DataLoader(val_dataset, batch_size=128, shuffle=False, num_workers=2)\n"
      ],
      "metadata": {
        "id": "US8koMRjCcjt",
        "colab": {
          "base_uri": "https://localhost:8080/"
        },
        "outputId": "b7b12733-eb07-4500-9ed9-b181b6d3326b"
      },
      "execution_count": null,
      "outputs": [
        {
          "output_type": "stream",
          "name": "stdout",
          "text": [
            "Downloading https://www.cs.toronto.edu/~kriz/cifar-10-python.tar.gz to ./data/cifar-10-python.tar.gz\n"
          ]
        },
        {
          "output_type": "stream",
          "name": "stderr",
          "text": [
            "100%|██████████| 170M/170M [00:04<00:00, 35.2MB/s]\n"
          ]
        },
        {
          "output_type": "stream",
          "name": "stdout",
          "text": [
            "Extracting ./data/cifar-10-python.tar.gz to ./data\n",
            "Files already downloaded and verified\n"
          ]
        }
      ]
    },
    {
      "cell_type": "code",
      "source": [
        "class LRN(nn.Module):\n",
        "    def __init__(self, size=5, alpha=1e-4, beta=0.75, k=2):\n",
        "        super(LRN, self).__init__()\n",
        "        self.size = size\n",
        "        self.alpha = alpha\n",
        "        self.beta = beta\n",
        "        self.k = k\n",
        "\n",
        "    def forward(self, x):\n",
        "        div = x.pow(2).mean(dim=1, keepdim=True)\n",
        "        div = (self.k + self.alpha * div).pow(self.beta)\n",
        "        return x / div\n"
      ],
      "metadata": {
        "id": "pREXmvIk1Auf"
      },
      "execution_count": null,
      "outputs": []
    },
    {
      "cell_type": "code",
      "source": [
        "class AlexNet(nn.Module):\n",
        "  def __init__(self, num_classes):\n",
        "    super(AlexNet, self).__init__()\n",
        "    self.conv1 = nn.Conv2d(3, 96, 11, 4, 0)\n",
        "    self.conv2 = nn.Conv2d(96, 256, 5, 1, 2)\n",
        "    self.conv3 = nn.Conv2d(256, 384, 3, 1, 1)\n",
        "    self.conv4 = nn.Conv2d(384, 384, 3, 1, 1)\n",
        "    self.conv5 = nn.Conv2d(384, 256, 3, 1, 1)\n",
        "\n",
        "    self.fc6 = nn.Linear(256 * 6 * 6, 4096)\n",
        "    self.fc7 = nn.Linear(4096, 4096)\n",
        "    self.fc8 = nn.Linear(4096, num_classes)\n",
        "\n",
        "    self.maxPool = nn.MaxPool2d(kernel_size = 3, stride = 2)\n",
        "    self.global_pool = nn.AdaptiveAvgPool2d((6, 6))\n",
        "    self.do = nn.Dropout(0.5)\n",
        "    self.relu = nn.ReLU(inplace=True)\n",
        "\n",
        "    self.features = nn.Sequential(\n",
        "        self.conv1, self.relu, LRN(), self.maxPool,\n",
        "        self.conv2, self.relu, LRN(), self.maxPool,\n",
        "        self.conv3, self.relu,\n",
        "        self.conv4, self.relu,\n",
        "        self.conv5, self.relu, self.maxPool\n",
        "    )\n",
        "    self.classifier = nn.Sequential(\n",
        "        self.fc6, self.relu, self.do,\n",
        "        self.fc7, self.relu, self.do,\n",
        "        self.fc8\n",
        "        )\n",
        "\n",
        "  def forward(self, x):\n",
        "    out = self.features(x)\n",
        "    out = self.global_pool(out)\n",
        "    out = out.view(out.size(0), -1)\n",
        "    out = self.classifier(out)\n",
        "    return out\n",
        "\n",
        "  def initialize_weights(self):\n",
        "    for m in self.modules():\n",
        "        if isinstance(m, nn.Conv2d):\n",
        "            nn.init.normal_(m.weight, mean=0, std=0.01)\n",
        "            if m.bias is not None:\n",
        "                nn.init.constant_(m.bias, 1)\n",
        "        elif isinstance(m, nn.Linear):\n",
        "            nn.init.normal_(m.weight, mean=0, std=0.01)\n",
        "            nn.init.constant_(m.bias, 1)\n",
        "\n"
      ],
      "metadata": {
        "id": "U_RDI9ZbCYxM"
      },
      "execution_count": null,
      "outputs": []
    },
    {
      "cell_type": "code",
      "source": [
        "num_classes = 10\n",
        "num_epochs = 30\n",
        "batch_size = 64\n",
        "learning_rate = 0.005\n",
        "\n",
        "model = AlexNet(num_classes).to(device)\n",
        "\n",
        "# Loss and optimizer\n",
        "criterion = nn.CrossEntropyLoss()\n",
        "optimizer = torch.optim.SGD(model.parameters(), lr=learning_rate, weight_decay = 0.005, momentum = 0.9)\n",
        "\n",
        "# Train the model\n",
        "total_step = len(train_loader)"
      ],
      "metadata": {
        "id": "TuwZA3-opmWj"
      },
      "execution_count": null,
      "outputs": []
    },
    {
      "cell_type": "code",
      "source": [
        "from tqdm import tqdm\n",
        "\n",
        "total_step = len(train_loader)\n",
        "\n",
        "for epoch in range(num_epochs):\n",
        "    # Training loop\n",
        "    pbar = tqdm(enumerate(train_loader), total=total_step, desc=f\"Epoch {epoch+1}/{num_epochs}\")\n",
        "    for i, (images, labels) in pbar:\n",
        "        images = images.to(device)\n",
        "        labels = labels.to(device)\n",
        "\n",
        "        # Forward pass\n",
        "        outputs = model(images)\n",
        "        loss = criterion(outputs, labels)\n",
        "\n",
        "        # Backward and optimize\n",
        "        optimizer.zero_grad()\n",
        "        loss.backward()\n",
        "        optimizer.step()\n",
        "\n",
        "        # Update progress bar\n",
        "        pbar.set_postfix({\"Loss\": loss.item()})\n",
        "\n",
        "    # Validation loop\n",
        "    with torch.no_grad():\n",
        "        correct = 0\n",
        "        total = 0\n",
        "        for images, labels in val_loader:\n",
        "            images = images.to(device)\n",
        "            labels = labels.to(device)\n",
        "            outputs = model(images)\n",
        "            _, predicted = torch.max(outputs, 1)\n",
        "            total += labels.size(0)\n",
        "            correct += (predicted == labels).sum().item()\n",
        "        torch.cuda.empty_cache()\n",
        "\n",
        "    print(f\"Validation Accuracy on {total} images: {100 * correct / total:.2f} %\")\n"
      ],
      "metadata": {
        "colab": {
          "base_uri": "https://localhost:8080/"
        },
        "id": "YjwPFGo64gsa",
        "outputId": "a37fc279-b295-4f76-9fb0-9ad405b1f6f7"
      },
      "execution_count": null,
      "outputs": [
        {
          "metadata": {
            "tags": null
          },
          "name": "stderr",
          "output_type": "stream",
          "text": [
            "Epoch 1/30: 100%|██████████| 313/313 [01:33<00:00,  3.36it/s, Loss=2.3]\n"
          ]
        },
        {
          "metadata": {
            "tags": null
          },
          "name": "stdout",
          "output_type": "stream",
          "text": [
            "Validation Accuracy on 10000 images: 10.91 %\n"
          ]
        },
        {
          "metadata": {
            "tags": null
          },
          "name": "stderr",
          "output_type": "stream",
          "text": [
            "Epoch 2/30: 100%|██████████| 313/313 [01:42<00:00,  3.07it/s, Loss=2.12]\n"
          ]
        },
        {
          "metadata": {
            "tags": null
          },
          "name": "stdout",
          "output_type": "stream",
          "text": [
            "Validation Accuracy on 10000 images: 22.56 %\n"
          ]
        },
        {
          "metadata": {
            "tags": null
          },
          "name": "stderr",
          "output_type": "stream",
          "text": [
            "Epoch 3/30: 100%|██████████| 313/313 [01:35<00:00,  3.26it/s, Loss=1.85]\n"
          ]
        },
        {
          "metadata": {
            "tags": null
          },
          "name": "stdout",
          "output_type": "stream",
          "text": [
            "Validation Accuracy on 10000 images: 28.86 %\n"
          ]
        },
        {
          "metadata": {
            "tags": null
          },
          "name": "stderr",
          "output_type": "stream",
          "text": [
            "Epoch 4/30: 100%|██████████| 313/313 [01:34<00:00,  3.32it/s, Loss=1.54]\n"
          ]
        },
        {
          "metadata": {
            "tags": null
          },
          "name": "stdout",
          "output_type": "stream",
          "text": [
            "Validation Accuracy on 10000 images: 36.09 %\n"
          ]
        },
        {
          "metadata": {
            "tags": null
          },
          "name": "stderr",
          "output_type": "stream",
          "text": [
            "Epoch 5/30: 100%|██████████| 313/313 [01:34<00:00,  3.30it/s, Loss=1.44]\n"
          ]
        },
        {
          "output_type": "stream",
          "name": "stdout",
          "text": [
            "Validation Accuracy on 10000 images: 40.84 %\n"
          ]
        },
        {
          "output_type": "stream",
          "name": "stderr",
          "text": [
            "Epoch 6/30:  12%|█▏        | 38/313 [00:11<02:02,  2.24it/s, Loss=1.63]"
          ]
        }
      ]
    },
    {
      "cell_type": "code",
      "source": [],
      "metadata": {
        "id": "xITWRl_u4UcE"
      },
      "execution_count": null,
      "outputs": []
    },
    {
      "cell_type": "code",
      "source": [],
      "metadata": {
        "id": "VqnFgcCID6dU"
      },
      "execution_count": null,
      "outputs": []
    },
    {
      "cell_type": "markdown",
      "source": [
        "Epoch 1/20: 100%|██████████| 313/313 [01:35<00:00,  3.27it/s, Loss=2.3]\n",
        "Validation Accuracy on 10000 images: 12.23 %\n",
        "Epoch 2/20: 100%|██████████| 313/313 [01:34<00:00,  3.32it/s, Loss=2.12]\n",
        "Validation Accuracy on 10000 images: 21.94 %\n",
        "Epoch 3/20: 100%|██████████| 313/313 [01:35<00:00,  3.26it/s, Loss=1.81]\n",
        "Validation Accuracy on 10000 images: 28.26 %\n",
        "Epoch 4/20: 100%|██████████| 313/313 [01:35<00:00,  3.27it/s, Loss=1.56]\n",
        "Validation Accuracy on 10000 images: 34.84 %\n",
        "Epoch 5/20: 100%|██████████| 313/313 [01:35<00:00,  3.29it/s, Loss=1.48]\n",
        "Validation Accuracy on 10000 images: 38.61 %\n",
        "Epoch 6/20: 100%|██████████| 313/313 [01:35<00:00,  3.29it/s, Loss=1.52]\n",
        "Validation Accuracy on 10000 images: 46.43 %\n",
        "Epoch 7/20: 100%|██████████| 313/313 [01:35<00:00,  3.29it/s, Loss=1.4]\n",
        "Validation Accuracy on 10000 images: 50.36 %\n",
        "Epoch 8/20: 100%|██████████| 313/313 [01:35<00:00,  3.27it/s, Loss=1.53]\n",
        "Validation Accuracy on 10000 images: 53.06 %\n",
        "Epoch 9/20: 100%|██████████| 313/313 [01:35<00:00,  3.26it/s, Loss=1.15]\n",
        "Validation Accuracy on 10000 images: 56.58 %\n",
        "Epoch 10/20: 100%|██████████| 313/313 [01:35<00:00,  3.29it/s, Loss=1.31]\n",
        "Validation Accuracy on 10000 images: 53.98 %\n",
        "Epoch 11/20: 100%|██████████| 313/313 [01:34<00:00,  3.30it/s, Loss=1.28]\n",
        "Validation Accuracy on 10000 images: 58.68 %\n",
        "Epoch 12/20: 100%|██████████| 313/313 [01:34<00:00,  3.33it/s, Loss=0.983]\n",
        "Validation Accuracy on 10000 images: 60.24 %\n",
        "Epoch 13/20: 100%|██████████| 313/313 [01:34<00:00,  3.31it/s, Loss=0.963]\n",
        "Validation Accuracy on 10000 images: 59.22 %\n",
        "Epoch 14/20: 100%|██████████| 313/313 [01:35<00:00,  3.26it/s, Loss=1.09]\n",
        "Validation Accuracy on 10000 images: 63.26 %\n",
        "Epoch 15/20: 100%|██████████| 313/313 [01:35<00:00,  3.28it/s, Loss=1.05]\n",
        "Validation Accuracy on 10000 images: 66.60 %\n",
        "Epoch 16/20: 100%|██████████| 313/313 [01:33<00:00,  3.34it/s, Loss=0.973]\n",
        "Validation Accuracy on 10000 images: 67.23 %\n",
        "Epoch 17/20: 100%|██████████| 313/313 [01:35<00:00,  3.29it/s, Loss=0.821]\n",
        "Validation Accuracy on 10000 images: 68.21 %\n",
        "Epoch 18/20: 100%|██████████| 313/313 [01:35<00:00,  3.27it/s, Loss=0.829]\n",
        "Validation Accuracy on 10000 images: 68.63 %\n",
        "Epoch 19/20: 100%|██████████| 313/313 [01:35<00:00,  3.29it/s, Loss=0.78]\n",
        "Validation Accuracy on 10000 images: 68.33 %\n",
        "Epoch 20/20: 100%|██████████| 313/313 [01:35<00:00,  3.27it/s, Loss=0.993]\n",
        "Validation Accuracy on 10000 images: 71.56 %"
      ],
      "metadata": {
        "id": "n42qE7euD5dQ"
      }
    },
    {
      "cell_type": "code",
      "source": [],
      "metadata": {
        "id": "lRfL_Quu6Ae4"
      },
      "execution_count": null,
      "outputs": []
    }
  ]
}