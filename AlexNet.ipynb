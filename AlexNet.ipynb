{
  "nbformat": 4,
  "nbformat_minor": 0,
  "metadata": {
    "colab": {
      "provenance": [],
      "gpuType": "T4",
      "authorship_tag": "ABX9TyNfEOtSzg91ezqx9Fez+yf6",
      "include_colab_link": true
    },
    "kernelspec": {
      "name": "python3",
      "display_name": "Python 3"
    },
    "language_info": {
      "name": "python"
    },
    "accelerator": "GPU"
  },
  "cells": [
    {
      "cell_type": "markdown",
      "metadata": {
        "id": "view-in-github",
        "colab_type": "text"
      },
      "source": [
        "<a href=\"https://colab.research.google.com/github/amaydixit11/research_papers/blob/main/AlexNet.ipynb\" target=\"_parent\"><img src=\"https://colab.research.google.com/assets/colab-badge.svg\" alt=\"Open In Colab\"/></a>"
      ]
    },
    {
      "cell_type": "code",
      "execution_count": 1,
      "metadata": {
        "id": "LRfu2o6kCONf"
      },
      "outputs": [],
      "source": [
        "import numpy as np\n",
        "import torch\n",
        "import torch.nn as nn\n",
        "from torchvision import datasets\n",
        "from torchvision import transforms\n",
        "from torch.utils.data.sampler import SubsetRandomSampler\n",
        "from torch.utils.data import DataLoader\n",
        "from sklearn.model_selection import train_test_split\n",
        "import torch.nn.functional as F\n",
        "\n",
        "device = torch.device('cuda' if torch.cuda.is_available() else 'cpu')"
      ]
    },
    {
      "cell_type": "code",
      "source": [
        "normalize = transforms.Normalize(mean=[0.485, 0.456, 0.406], std=[0.229, 0.224, 0.225])\n",
        "train_transform = transforms.Compose([\n",
        "    transforms.Resize(256),\n",
        "    transforms.RandomCrop(224),\n",
        "    transforms.RandomHorizontalFlip(),\n",
        "    transforms.ToTensor(),\n",
        "    normalize])\n",
        "\n",
        "val_transform = transforms.Compose([\n",
        "    transforms.Resize(256),\n",
        "    transforms.CenterCrop(224),\n",
        "    transforms.ToTensor(),\n",
        "    normalize])\n",
        "\n",
        "train_dataset = datasets.CIFAR10(root='./data', train=True, transform=train_transform, download=True)\n",
        "val_dataset = datasets.CIFAR10(root='./data', train=False, transform=val_transform, download=True)\n",
        "\n",
        "indices = list(range(len(train_dataset)))\n",
        "train_indices, val_indices = train_test_split(indices, test_size=0.2, random_state=42)\n",
        "\n",
        "# samplers\n",
        "train_sampler = SubsetRandomSampler(train_indices)\n",
        "val_sampler = SubsetRandomSampler(val_indices)\n",
        "\n",
        "# loaders\n",
        "train_loader = DataLoader(train_dataset, batch_size=128, sampler=train_sampler, num_workers=2)\n",
        "# val_loader = DataLoader(val_dataset, batch_size=128, sampler=val_sampler, num_workers=2)\n",
        "val_loader = DataLoader(val_dataset, batch_size=128, shuffle=False, num_workers=2)\n"
      ],
      "metadata": {
        "id": "US8koMRjCcjt",
        "colab": {
          "base_uri": "https://localhost:8080/"
        },
        "outputId": "42a2d977-5ed1-41f6-d4cc-9c85b62dbe6f"
      },
      "execution_count": 2,
      "outputs": [
        {
          "output_type": "stream",
          "name": "stdout",
          "text": [
            "Downloading https://www.cs.toronto.edu/~kriz/cifar-10-python.tar.gz to ./data/cifar-10-python.tar.gz\n"
          ]
        },
        {
          "output_type": "stream",
          "name": "stderr",
          "text": [
            "100%|██████████| 170M/170M [00:19<00:00, 8.95MB/s]\n"
          ]
        },
        {
          "output_type": "stream",
          "name": "stdout",
          "text": [
            "Extracting ./data/cifar-10-python.tar.gz to ./data\n",
            "Files already downloaded and verified\n"
          ]
        }
      ]
    },
    {
      "cell_type": "code",
      "source": [
        "class LRN(nn.Module):\n",
        "    def __init__(self, size=5, alpha=1e-4, beta=0.75, k=2):\n",
        "        super(LRN, self).__init__()\n",
        "        self.size = size\n",
        "        self.alpha = alpha\n",
        "        self.beta = beta\n",
        "        self.k = k\n",
        "\n",
        "    def forward(self, x):\n",
        "        div = x.pow(2).mean(dim=1, keepdim=True)\n",
        "        div = (self.k + self.alpha * div).pow(self.beta)\n",
        "        return x / div\n"
      ],
      "metadata": {
        "id": "pREXmvIk1Auf"
      },
      "execution_count": 3,
      "outputs": []
    },
    {
      "cell_type": "code",
      "source": [
        "class AlexNet(nn.Module):\n",
        "  def __init__(self, num_classes):\n",
        "    super(AlexNet, self).__init__()\n",
        "    self.conv1 = nn.Conv2d(3, 96, kernel_size=11, stride=4, padding=0)\n",
        "    self.conv2 = nn.Conv2d(96, 256, kernel_size=5, stride=1, padding=2)\n",
        "    self.conv3 = nn.Conv2d(256, 384, kernel_size=3, stride=1, padding=1)\n",
        "    self.conv4 = nn.Conv2d(384, 384, kernel_size=3, stride=1, padding=1)\n",
        "    self.conv5 = nn.Conv2d(384, 256, kernel_size=3, stride=1, padding=1)\n",
        "\n",
        "    self.fc6 = nn.Linear(256 * 6 * 6, 4096)\n",
        "    self.fc7 = nn.Linear(4096, 4096)\n",
        "    self.fc8 = nn.Linear(4096, num_classes)\n",
        "\n",
        "    self.maxPool = nn.MaxPool2d(kernel_size = 3, stride = 2)\n",
        "    self.global_pool = nn.AdaptiveAvgPool2d((6, 6))\n",
        "    self.do = nn.Dropout(0.5)\n",
        "    self.relu = nn.ReLU(inplace=True)\n",
        "\n",
        "    self.features = nn.Sequential(\n",
        "        self.conv1, self.relu, LRN(), self.maxPool,\n",
        "        self.conv2, self.relu, LRN(), self.maxPool,\n",
        "        self.conv3, self.relu,\n",
        "        self.conv4, self.relu,\n",
        "        self.conv5, self.relu, self.maxPool\n",
        "    )\n",
        "    self.classifier = nn.Sequential(\n",
        "        self.fc6, self.relu, self.do,\n",
        "        self.fc7, self.relu, self.do,\n",
        "        self.fc8\n",
        "        )\n",
        "\n",
        "  def forward(self, x):\n",
        "    out = self.features(x)\n",
        "    out = self.global_pool(out)\n",
        "    out = out.view(out.size(0), -1)\n",
        "    out = self.classifier(out)\n",
        "    return out\n",
        "\n",
        "  def initialize_weights(self):\n",
        "    for m in self.modules():\n",
        "        if isinstance(m, nn.Conv2d):\n",
        "            nn.init.normal_(m.weight, mean=0, std=0.01)\n",
        "            if m.bias is not None:\n",
        "                nn.init.constant_(m.bias, 1)\n",
        "        elif isinstance(m, nn.Linear):\n",
        "            nn.init.normal_(m.weight, mean=0, std=0.01)\n",
        "            nn.init.constant_(m.bias, 1)\n",
        "\n"
      ],
      "metadata": {
        "id": "U_RDI9ZbCYxM"
      },
      "execution_count": 4,
      "outputs": []
    },
    {
      "cell_type": "code",
      "source": [
        "num_classes = 10\n",
        "num_epochs = 30\n",
        "batch_size = 64\n",
        "learning_rate = 0.01\n",
        "\n",
        "model = AlexNet(num_classes).to(device)\n",
        "\n",
        "# Loss and optimizer\n",
        "criterion = nn.CrossEntropyLoss()\n",
        "optimizer = torch.optim.SGD(model.parameters(), lr=learning_rate, weight_decay = 0.0005, momentum = 0.9)\n",
        "\n",
        "# Train the model\n",
        "total_step = len(train_loader)"
      ],
      "metadata": {
        "id": "TuwZA3-opmWj"
      },
      "execution_count": 5,
      "outputs": []
    },
    {
      "cell_type": "code",
      "source": [
        "from tqdm import tqdm\n",
        "\n",
        "total_step = len(train_loader)\n",
        "\n",
        "for epoch in range(num_epochs):\n",
        "    # Training loop\n",
        "    pbar = tqdm(enumerate(train_loader), total=total_step, desc=f\"Epoch {epoch+1}/{num_epochs}\")\n",
        "    for i, (images, labels) in pbar:\n",
        "        images = images.to(device)\n",
        "        labels = labels.to(device)\n",
        "\n",
        "        # Forward pass\n",
        "        outputs = model(images)\n",
        "        loss = criterion(outputs, labels)\n",
        "\n",
        "        # Backward and optimize\n",
        "        optimizer.zero_grad()\n",
        "        loss.backward()\n",
        "        optimizer.step()\n",
        "\n",
        "        # Update progress bar\n",
        "        pbar.set_postfix({\"Loss\": loss.item()})\n",
        "\n",
        "    # Validation loop\n",
        "    with torch.no_grad():\n",
        "        correct = 0\n",
        "        total = 0\n",
        "        for images, labels in val_loader:\n",
        "            images = images.to(device)\n",
        "            labels = labels.to(device)\n",
        "            outputs = model(images)\n",
        "            _, predicted = torch.max(outputs, 1)\n",
        "            total += labels.size(0)\n",
        "            correct += (predicted == labels).sum().item()\n",
        "        torch.cuda.empty_cache()\n",
        "\n",
        "    print(f\"Validation Accuracy on {total} images: {100 * correct / total:.2f} %\")\n"
      ],
      "metadata": {
        "colab": {
          "base_uri": "https://localhost:8080/"
        },
        "id": "YjwPFGo64gsa",
        "outputId": "ad8bb585-d06f-43db-bd50-09495d4c6f9b"
      },
      "execution_count": 6,
      "outputs": [
        {
          "output_type": "stream",
          "name": "stderr",
          "text": [
            "Epoch 1/30: 100%|██████████| 313/313 [01:35<00:00,  3.28it/s, Loss=2.09]\n"
          ]
        },
        {
          "output_type": "stream",
          "name": "stdout",
          "text": [
            "Validation Accuracy on 10000 images: 22.80 %\n"
          ]
        },
        {
          "output_type": "stream",
          "name": "stderr",
          "text": [
            "Epoch 2/30: 100%|██████████| 313/313 [01:32<00:00,  3.38it/s, Loss=1.76]\n"
          ]
        },
        {
          "output_type": "stream",
          "name": "stdout",
          "text": [
            "Validation Accuracy on 10000 images: 38.00 %\n"
          ]
        },
        {
          "output_type": "stream",
          "name": "stderr",
          "text": [
            "Epoch 3/30: 100%|██████████| 313/313 [01:33<00:00,  3.36it/s, Loss=1.5]\n"
          ]
        },
        {
          "output_type": "stream",
          "name": "stdout",
          "text": [
            "Validation Accuracy on 10000 images: 45.00 %\n"
          ]
        },
        {
          "output_type": "stream",
          "name": "stderr",
          "text": [
            "Epoch 4/30: 100%|██████████| 313/313 [01:32<00:00,  3.37it/s, Loss=1.2]\n"
          ]
        },
        {
          "output_type": "stream",
          "name": "stdout",
          "text": [
            "Validation Accuracy on 10000 images: 54.50 %\n"
          ]
        },
        {
          "output_type": "stream",
          "name": "stderr",
          "text": [
            "Epoch 5/30: 100%|██████████| 313/313 [01:37<00:00,  3.19it/s, Loss=1.14]\n"
          ]
        },
        {
          "output_type": "stream",
          "name": "stdout",
          "text": [
            "Validation Accuracy on 10000 images: 62.15 %\n"
          ]
        },
        {
          "output_type": "stream",
          "name": "stderr",
          "text": [
            "Epoch 6/30: 100%|██████████| 313/313 [01:32<00:00,  3.40it/s, Loss=1.17]\n"
          ]
        },
        {
          "output_type": "stream",
          "name": "stdout",
          "text": [
            "Validation Accuracy on 10000 images: 63.47 %\n"
          ]
        },
        {
          "output_type": "stream",
          "name": "stderr",
          "text": [
            "Epoch 7/30: 100%|██████████| 313/313 [01:35<00:00,  3.29it/s, Loss=0.915]\n"
          ]
        },
        {
          "output_type": "stream",
          "name": "stdout",
          "text": [
            "Validation Accuracy on 10000 images: 69.95 %\n"
          ]
        },
        {
          "output_type": "stream",
          "name": "stderr",
          "text": [
            "Epoch 8/30: 100%|██████████| 313/313 [01:33<00:00,  3.35it/s, Loss=0.867]\n"
          ]
        },
        {
          "output_type": "stream",
          "name": "stdout",
          "text": [
            "Validation Accuracy on 10000 images: 73.24 %\n"
          ]
        },
        {
          "output_type": "stream",
          "name": "stderr",
          "text": [
            "Epoch 9/30: 100%|██████████| 313/313 [01:33<00:00,  3.36it/s, Loss=0.799]\n"
          ]
        },
        {
          "output_type": "stream",
          "name": "stdout",
          "text": [
            "Validation Accuracy on 10000 images: 75.17 %\n"
          ]
        },
        {
          "output_type": "stream",
          "name": "stderr",
          "text": [
            "Epoch 10/30: 100%|██████████| 313/313 [01:33<00:00,  3.34it/s, Loss=0.655]\n"
          ]
        },
        {
          "output_type": "stream",
          "name": "stdout",
          "text": [
            "Validation Accuracy on 10000 images: 75.44 %\n"
          ]
        },
        {
          "output_type": "stream",
          "name": "stderr",
          "text": [
            "Epoch 11/30: 100%|██████████| 313/313 [01:33<00:00,  3.36it/s, Loss=0.494]\n"
          ]
        },
        {
          "output_type": "stream",
          "name": "stdout",
          "text": [
            "Validation Accuracy on 10000 images: 77.80 %\n"
          ]
        },
        {
          "output_type": "stream",
          "name": "stderr",
          "text": [
            "Epoch 12/30: 100%|██████████| 313/313 [01:33<00:00,  3.34it/s, Loss=0.384]\n"
          ]
        },
        {
          "output_type": "stream",
          "name": "stdout",
          "text": [
            "Validation Accuracy on 10000 images: 77.12 %\n"
          ]
        },
        {
          "output_type": "stream",
          "name": "stderr",
          "text": [
            "Epoch 13/30: 100%|██████████| 313/313 [01:42<00:00,  3.05it/s, Loss=0.456]\n"
          ]
        },
        {
          "output_type": "stream",
          "name": "stdout",
          "text": [
            "Validation Accuracy on 10000 images: 77.79 %\n"
          ]
        },
        {
          "output_type": "stream",
          "name": "stderr",
          "text": [
            "Epoch 14/30: 100%|██████████| 313/313 [01:33<00:00,  3.34it/s, Loss=0.463]\n"
          ]
        },
        {
          "output_type": "stream",
          "name": "stdout",
          "text": [
            "Validation Accuracy on 10000 images: 78.77 %\n"
          ]
        },
        {
          "output_type": "stream",
          "name": "stderr",
          "text": [
            "Epoch 15/30: 100%|██████████| 313/313 [01:33<00:00,  3.36it/s, Loss=0.554]\n"
          ]
        },
        {
          "output_type": "stream",
          "name": "stdout",
          "text": [
            "Validation Accuracy on 10000 images: 80.74 %\n"
          ]
        },
        {
          "output_type": "stream",
          "name": "stderr",
          "text": [
            "Epoch 16/30: 100%|██████████| 313/313 [01:33<00:00,  3.34it/s, Loss=0.433]\n"
          ]
        },
        {
          "output_type": "stream",
          "name": "stdout",
          "text": [
            "Validation Accuracy on 10000 images: 80.97 %\n"
          ]
        },
        {
          "output_type": "stream",
          "name": "stderr",
          "text": [
            "Epoch 17/30: 100%|██████████| 313/313 [01:33<00:00,  3.34it/s, Loss=0.41]\n"
          ]
        },
        {
          "output_type": "stream",
          "name": "stdout",
          "text": [
            "Validation Accuracy on 10000 images: 81.28 %\n"
          ]
        },
        {
          "output_type": "stream",
          "name": "stderr",
          "text": [
            "Epoch 18/30: 100%|██████████| 313/313 [01:32<00:00,  3.38it/s, Loss=0.447]\n"
          ]
        },
        {
          "output_type": "stream",
          "name": "stdout",
          "text": [
            "Validation Accuracy on 10000 images: 80.39 %\n"
          ]
        },
        {
          "output_type": "stream",
          "name": "stderr",
          "text": [
            "Epoch 19/30: 100%|██████████| 313/313 [01:33<00:00,  3.36it/s, Loss=0.359]\n"
          ]
        },
        {
          "output_type": "stream",
          "name": "stdout",
          "text": [
            "Validation Accuracy on 10000 images: 81.79 %\n"
          ]
        },
        {
          "output_type": "stream",
          "name": "stderr",
          "text": [
            "Epoch 20/30: 100%|██████████| 313/313 [01:34<00:00,  3.32it/s, Loss=0.449]\n"
          ]
        },
        {
          "output_type": "stream",
          "name": "stdout",
          "text": [
            "Validation Accuracy on 10000 images: 83.37 %\n"
          ]
        },
        {
          "output_type": "stream",
          "name": "stderr",
          "text": [
            "Epoch 21/30: 100%|██████████| 313/313 [01:32<00:00,  3.38it/s, Loss=0.452]\n"
          ]
        },
        {
          "output_type": "stream",
          "name": "stdout",
          "text": [
            "Validation Accuracy on 10000 images: 84.13 %\n"
          ]
        },
        {
          "output_type": "stream",
          "name": "stderr",
          "text": [
            "Epoch 22/30: 100%|██████████| 313/313 [01:33<00:00,  3.35it/s, Loss=0.235]\n"
          ]
        },
        {
          "output_type": "stream",
          "name": "stdout",
          "text": [
            "Validation Accuracy on 10000 images: 83.53 %\n"
          ]
        },
        {
          "output_type": "stream",
          "name": "stderr",
          "text": [
            "Epoch 23/30: 100%|██████████| 313/313 [01:35<00:00,  3.29it/s, Loss=0.258]\n"
          ]
        },
        {
          "output_type": "stream",
          "name": "stdout",
          "text": [
            "Validation Accuracy on 10000 images: 83.20 %\n"
          ]
        },
        {
          "output_type": "stream",
          "name": "stderr",
          "text": [
            "Epoch 24/30: 100%|██████████| 313/313 [01:33<00:00,  3.36it/s, Loss=0.239]\n"
          ]
        },
        {
          "output_type": "stream",
          "name": "stdout",
          "text": [
            "Validation Accuracy on 10000 images: 84.02 %\n"
          ]
        },
        {
          "output_type": "stream",
          "name": "stderr",
          "text": [
            "Epoch 25/30: 100%|██████████| 313/313 [01:37<00:00,  3.22it/s, Loss=0.162]\n"
          ]
        },
        {
          "output_type": "stream",
          "name": "stdout",
          "text": [
            "Validation Accuracy on 10000 images: 83.90 %\n"
          ]
        },
        {
          "output_type": "stream",
          "name": "stderr",
          "text": [
            "Epoch 26/30: 100%|██████████| 313/313 [01:32<00:00,  3.38it/s, Loss=0.245]\n"
          ]
        },
        {
          "output_type": "stream",
          "name": "stdout",
          "text": [
            "Validation Accuracy on 10000 images: 84.81 %\n"
          ]
        },
        {
          "output_type": "stream",
          "name": "stderr",
          "text": [
            "Epoch 27/30: 100%|██████████| 313/313 [01:34<00:00,  3.31it/s, Loss=0.213]\n"
          ]
        },
        {
          "output_type": "stream",
          "name": "stdout",
          "text": [
            "Validation Accuracy on 10000 images: 84.33 %\n"
          ]
        },
        {
          "output_type": "stream",
          "name": "stderr",
          "text": [
            "Epoch 28/30: 100%|██████████| 313/313 [01:36<00:00,  3.24it/s, Loss=0.136]\n"
          ]
        },
        {
          "output_type": "stream",
          "name": "stdout",
          "text": [
            "Validation Accuracy on 10000 images: 84.31 %\n"
          ]
        },
        {
          "output_type": "stream",
          "name": "stderr",
          "text": [
            "Epoch 29/30: 100%|██████████| 313/313 [01:34<00:00,  3.30it/s, Loss=0.238]\n"
          ]
        },
        {
          "output_type": "stream",
          "name": "stdout",
          "text": [
            "Validation Accuracy on 10000 images: 83.67 %\n"
          ]
        },
        {
          "output_type": "stream",
          "name": "stderr",
          "text": [
            "Epoch 30/30: 100%|██████████| 313/313 [01:33<00:00,  3.34it/s, Loss=0.182]\n"
          ]
        },
        {
          "output_type": "stream",
          "name": "stdout",
          "text": [
            "Validation Accuracy on 10000 images: 84.17 %\n"
          ]
        }
      ]
    }
  ]
}